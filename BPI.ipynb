{
 "cells": [
  {
   "cell_type": "code",
   "execution_count": 1,
   "id": "c246de67-621e-4563-b364-cefe4f5aef6f",
   "metadata": {},
   "outputs": [],
   "source": [
    "import pandas as pd\n",
    "import numpy as np\n",
    "import math"
   ]
  },
  {
   "cell_type": "code",
   "execution_count": 2,
   "id": "43def647-c129-4a3f-a015-d7f20c4610da",
   "metadata": {},
   "outputs": [
    {
     "data": {
      "text/html": [
       "<div>\n",
       "<style scoped>\n",
       "    .dataframe tbody tr th:only-of-type {\n",
       "        vertical-align: middle;\n",
       "    }\n",
       "\n",
       "    .dataframe tbody tr th {\n",
       "        vertical-align: top;\n",
       "    }\n",
       "\n",
       "    .dataframe thead th {\n",
       "        text-align: right;\n",
       "    }\n",
       "</style>\n",
       "<table border=\"1\" class=\"dataframe\">\n",
       "  <thead>\n",
       "    <tr style=\"text-align: right;\">\n",
       "      <th></th>\n",
       "      <th>Full_State</th>\n",
       "      <th>Abb_State</th>\n",
       "      <th>Electoral_College_Votes</th>\n",
       "    </tr>\n",
       "  </thead>\n",
       "  <tbody>\n",
       "    <tr>\n",
       "      <th>4</th>\n",
       "      <td>California</td>\n",
       "      <td>CA</td>\n",
       "      <td>54</td>\n",
       "    </tr>\n",
       "    <tr>\n",
       "      <th>43</th>\n",
       "      <td>Texas</td>\n",
       "      <td>TX</td>\n",
       "      <td>40</td>\n",
       "    </tr>\n",
       "    <tr>\n",
       "      <th>9</th>\n",
       "      <td>Florida</td>\n",
       "      <td>FL</td>\n",
       "      <td>30</td>\n",
       "    </tr>\n",
       "    <tr>\n",
       "      <th>32</th>\n",
       "      <td>New York</td>\n",
       "      <td>NY</td>\n",
       "      <td>28</td>\n",
       "    </tr>\n",
       "    <tr>\n",
       "      <th>38</th>\n",
       "      <td>Pennsylvania</td>\n",
       "      <td>PA</td>\n",
       "      <td>19</td>\n",
       "    </tr>\n",
       "  </tbody>\n",
       "</table>\n",
       "</div>"
      ],
      "text/plain": [
       "      Full_State Abb_State  Electoral_College_Votes\n",
       "4     California        CA                       54\n",
       "43         Texas        TX                       40\n",
       "9        Florida        FL                       30\n",
       "32      New York        NY                       28\n",
       "38  Pennsylvania        PA                       19"
      ]
     },
     "execution_count": 2,
     "metadata": {},
     "output_type": "execute_result"
    }
   ],
   "source": [
    "df = pd.read_csv(\"Electoral_College.csv\")\n",
    "df = df.sort_values(by=\"Electoral_College_Votes\",ascending=False)\n",
    "df.head()"
   ]
  },
  {
   "cell_type": "code",
   "execution_count": 3,
   "id": "87f80426-9fc0-4368-825e-0cca2726f466",
   "metadata": {},
   "outputs": [],
   "source": [
    "electoral_college = [270] + df[\"Electoral_College_Votes\"].to_list()"
   ]
  },
  {
   "cell_type": "code",
   "execution_count": 4,
   "id": "ac563395-c4e1-43c0-830f-4b78adde751a",
   "metadata": {},
   "outputs": [],
   "source": [
    "def BPI_raw(game,i):\n",
    "    '''\n",
    "    A dynamic programming algorithm for calculating the raw Banzhaf power index of player i in a weighted voter game.\n",
    "    \n",
    "    input:   list [q,w_1,w_2,...,w_n] representing a weighted voter game with weights in descending order;\n",
    "                 we assume that w_i < q for all i\n",
    "             int i, the index of a player\n",
    "             \n",
    "    output:  int b, the raw Banzhaf power index of player i\n",
    "    '''\n",
    "    q = game[0]\n",
    "    n = len(game) - 1\n",
    "    w_i = game[i]\n",
    "    weights = game[1:]\n",
    "    coalitions = [[w for i in range(np.sum([np.array(weights) == w]))] for w in sorted(set(weights),reverse=True)]\n",
    "    z = len(coalitions)\n",
    "    dp_array = [[0 for i in range(n)] for i in range(q)]\n",
    "    dp_array[0][0] = 1\n",
    "    ts = 0\n",
    "    b = 0\n",
    "    alpha = [0 for i in range(n)]\n",
    "    \n",
    "    for x in range(z):\n",
    "        y_0 = len(coalitions[x])\n",
    "        if w_i == coalitions[x][0]:\n",
    "            y_0 = y_0 - 1\n",
    "        for t in range(ts+1)[::-1]:\n",
    "            for w in range(alpha[t]+1)[::-1]:\n",
    "                if dp_array[w][t] > 0:\n",
    "                    c_0 = 1\n",
    "                    for y in range(1,y_0+1):\n",
    "                        c_0 = c_0 * float(y_0-y+1) / y\n",
    "                        c_add = round(dp_array[w][t] * c_0)\n",
    "                        w_temp = w + coalitions[x][0] * y\n",
    "                        if w_temp <= q-1:\n",
    "                            dp_array[w_temp][t+y] = dp_array[w_temp][t+y] + c_add\n",
    "                            alpha[t+y] = max(alpha[t+y],w_temp)\n",
    "                        if q - w_i <= w_temp <= q-1:\n",
    "                            b = b + c_add\n",
    "        ts = ts + y_0\n",
    "    return b"
   ]
  },
  {
   "cell_type": "code",
   "execution_count": 5,
   "id": "4cd2cf50-fe98-44f5-a2e3-e3a202bfa34a",
   "metadata": {},
   "outputs": [
    {
     "data": {
      "text/plain": [
       "array([518714817081760, 357516461035922, 262324582416368, 243926123180044,\n",
       "       163430671593954, 163430671593954, 145923747401144, 137210288981154,\n",
       "       137210288981154, 128521091703182, 119854418693448, 111208580205692,\n",
       "       102581928561098,  93972853943984,  93972853943984,  93972853943984,\n",
       "        93972853943984,  85379780467994,  85379780467994,  85379780467994,\n",
       "        85379780467994,  85379780467994,  76801162328032,  76801162328032,\n",
       "        68235480794864,  68235480794864,  68235480794864,  59681240815152,\n",
       "        59681240815152,  51136968067196,  51136968067196,  51136968067196,\n",
       "        51136968067196,  51136968067196,  51136968067196,  42601206119710,\n",
       "        42601206119710,  34072513921886,  34072513921886,  34072513921886,\n",
       "        34072513921886,  34072513921886,  34072513921886,  34072513921886,\n",
       "        25549462553022,  25549462553022,  25549462553022,  25549462553022,\n",
       "        25549462553022,  25549462553022,  25549462553022])"
      ]
     },
     "execution_count": 5,
     "metadata": {},
     "output_type": "execute_result"
    }
   ],
   "source": [
    "EC_BPI_raw = np.array([BPI_raw(electoral_college,i) for i in range(1,52)])\n",
    "EC_BPI_raw"
   ]
  },
  {
   "cell_type": "code",
   "execution_count": 6,
   "id": "271857d4-92e2-44cb-ac98-acdf010b1767",
   "metadata": {},
   "outputs": [
    {
     "data": {
      "text/plain": [
       "array([0.11079641, 0.07636478, 0.05603199, 0.05210212, 0.03490845,\n",
       "       0.03490845, 0.03116901, 0.02930783, 0.02930783, 0.02745184,\n",
       "       0.02560066, 0.02375392, 0.02191129, 0.02007241, 0.02007241,\n",
       "       0.02007241, 0.02007241, 0.01823694, 0.01823694, 0.01823694,\n",
       "       0.01823694, 0.01823694, 0.01640457, 0.01640457, 0.01457496,\n",
       "       0.01457496, 0.01457496, 0.01274779, 0.01274779, 0.01092275,\n",
       "       0.01092275, 0.01092275, 0.01092275, 0.01092275, 0.01092275,\n",
       "       0.00909953, 0.00909953, 0.00727782, 0.00727782, 0.00727782,\n",
       "       0.00727782, 0.00727782, 0.00727782, 0.00727782, 0.00545731,\n",
       "       0.00545731, 0.00545731, 0.00545731, 0.00545731, 0.00545731,\n",
       "       0.00545731])"
      ]
     },
     "execution_count": 6,
     "metadata": {},
     "output_type": "execute_result"
    }
   ],
   "source": [
    "EC_BPI_normalized = EC_BPI_raw / np.sum(EC_BPI_raw)\n",
    "EC_BPI_normalized"
   ]
  },
  {
   "cell_type": "code",
   "execution_count": 7,
   "id": "e89e0ede-5098-4de8-be6f-fd3b8d63e24f",
   "metadata": {},
   "outputs": [
    {
     "data": {
      "text/plain": [
       "array([0.46071131, 0.31753841, 0.23299103, 0.21664992, 0.1451556 ,\n",
       "       0.1451556 , 0.12960632, 0.12186722, 0.12186722, 0.11414966,\n",
       "       0.10645211, 0.09877306, 0.09111106, 0.08346466, 0.08346466,\n",
       "       0.08346466, 0.08346466, 0.07583248, 0.07583248, 0.07583248,\n",
       "       0.07583248, 0.07583248, 0.06821313, 0.06821313, 0.06060528,\n",
       "       0.06060528, 0.06060528, 0.05300759, 0.05300759, 0.04541875,\n",
       "       0.04541875, 0.04541875, 0.04541875, 0.04541875, 0.04541875,\n",
       "       0.03783747, 0.03783747, 0.03026247, 0.03026247, 0.03026247,\n",
       "       0.03026247, 0.03026247, 0.03026247, 0.03026247, 0.02269248,\n",
       "       0.02269248, 0.02269248, 0.02269248, 0.02269248, 0.02269248,\n",
       "       0.02269248])"
      ]
     },
     "execution_count": 7,
     "metadata": {},
     "output_type": "execute_result"
    }
   ],
   "source": [
    "EC_BPI = EC_BPI_raw / 2 ** 50\n",
    "EC_BPI"
   ]
  }
 ],
 "metadata": {
  "kernelspec": {
   "display_name": "Python 3 (ipykernel)",
   "language": "python",
   "name": "python3"
  },
  "language_info": {
   "codemirror_mode": {
    "name": "ipython",
    "version": 3
   },
   "file_extension": ".py",
   "mimetype": "text/x-python",
   "name": "python",
   "nbconvert_exporter": "python",
   "pygments_lexer": "ipython3",
   "version": "3.10.9"
  }
 },
 "nbformat": 4,
 "nbformat_minor": 5
}
